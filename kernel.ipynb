{
 "cells": [
  {
   "cell_type": "markdown",
   "metadata": {
    "_uuid": "00942451f681f653faa92feb2c05952a61015149"
   },
   "source": [
    "# About\n",
    "\n",
    "This notebook is a basic example for looking at individual events, events, creating a solution and submitting it. It walks through some of the library function for accessing the data and writing a submission file. \n",
    "This example uses DBScan to solve the tracking problem. "
   ]
  },
  {
   "cell_type": "code",
   "execution_count": 6,
   "metadata": {
    "_uuid": "0bee86255243664f24e4bcf48af2228a3100a8b7",
    "collapsed": true
   },
   "outputs": [],
   "source": [
    "%matplotlib inline\n",
    "import matplotlib.pyplot as plt\n",
    "import numpy as np\n",
    "import pandas as pd\n",
    "import os\n",
    "\n",
    "from trackml.dataset import load_event, load_dataset\n",
    "from trackml.score import score_event"
   ]
  },
  {
   "cell_type": "code",
   "execution_count": 15,
   "metadata": {
    "_uuid": "63414de98667e95f60407c9155899a25a321cffc",
    "collapsed": false
   },
   "outputs": [
    {
     "name": "stdout",
     "output_type": "stream",
     "text": [
      "hello\n"
     ]
    }
   ],
   "source": [
    "# Change this according to your directory preferred setting\n",
    "path_to_train = \"../input/train_1\"\n"
   ]
  },
  {
   "cell_type": "markdown",
   "metadata": {
    "_uuid": "ba582f8999ef55c648c8599361c923ca3f329ff2"
   },
   "source": [
    "#  Working on one event"
   ]
  },
  {
   "cell_type": "code",
   "execution_count": 16,
   "metadata": {
    "_uuid": "3e45554ab05c14faf63a2c423f69ebbe7c108541",
    "collapsed": true
   },
   "outputs": [],
   "source": [
    "# This event is in Train_1\n",
    "event_prefix = \"event000001000\""
   ]
  },
  {
   "cell_type": "markdown",
   "metadata": {
    "_uuid": "1d922ce1a4dab9afd831e29a7324f6e438d60344"
   },
   "source": [
    "## Read and look"
   ]
  },
  {
   "cell_type": "code",
   "execution_count": null,
   "metadata": {
    "_uuid": "0ace6a8761680565b177f0a1b12f85949fecb599",
    "collapsed": true
   },
   "outputs": [],
   "source": [
    "hits, cells, particles, truth = load_event(os.path.join(path_to_train, event_prefix))"
   ]
  },
  {
   "cell_type": "code",
   "execution_count": null,
   "metadata": {
    "_uuid": "e95ce87d0f786d9438365fef374cd4096a030e79",
    "collapsed": true
   },
   "outputs": [],
   "source": [
    "hits.head()"
   ]
  },
  {
   "cell_type": "markdown",
   "metadata": {
    "_uuid": "c05b12ca539279524e506814e04cefde8c92dab2"
   },
   "source": [
    "## Identify tracks \n",
    "\n",
    "In this example the track pattern recognition is solved as clustering problem. Each of the clusters corresponds to one track. \n",
    "Firstly we preprocess hit coordinates in order to highlight the fact that a track is (approximatly) an arc of helix. \n",
    "\n",
    "\n",
    "$$ \n",
    "r_{1} = \\sqrt{x^{2}+y^{2}+z^{2}}\n",
    "$$\n",
    "\n",
    "$$\n",
    "x_{2} = x / r_{1}\n",
    "$$\n",
    "$$\n",
    "y_{2} = y / r_{1}\n",
    "$$\n",
    "\n",
    "$$\n",
    "r_{2} = \\sqrt{x^{2}+y^{2}}\n",
    "$$\n",
    "\n",
    "$$\n",
    "z_{2} = z / r_{2}\n",
    "$$\n",
    "\n",
    "\n",
    "\n",
    "![dbscan_pic.png](attachment:dbscan_pic.png)\n",
    "\n",
    "Then, DBSCAN is used to recognize hit clusters. "
   ]
  },
  {
   "cell_type": "code",
   "execution_count": null,
   "metadata": {
    "_uuid": "c2f70ae63abffcc09a534bb17fb89df8ffddb722",
    "collapsed": true
   },
   "outputs": [],
   "source": [
    "from sklearn.preprocessing import StandardScaler\n",
    "from sklearn.cluster import DBSCAN\n",
    "\n",
    "class Clusterer(object):\n",
    "    \n",
    "    def __init__(self, eps):\n",
    "        self.eps = eps\n",
    "        \n",
    "    \n",
    "    def _preprocess(self, hits):\n",
    "        \n",
    "        x = hits.x.values\n",
    "        y = hits.y.values\n",
    "        z = hits.z.values\n",
    "\n",
    "        r = np.sqrt(x**2 + y**2 + z**2)\n",
    "        hits['x2'] = x/r\n",
    "        hits['y2'] = y/r\n",
    "\n",
    "        r = np.sqrt(x**2 + y**2)\n",
    "        hits['z2'] = z/r\n",
    "\n",
    "        ss = StandardScaler()\n",
    "        X = ss.fit_transform(hits[['x2', 'y2', 'z2']].values)\n",
    "        \n",
    "        return X\n",
    "    \n",
    "    \n",
    "    def predict(self, hits):\n",
    "        \n",
    "        X = self._preprocess(hits)\n",
    "        \n",
    "        cl = DBSCAN(eps=self.eps, min_samples=1, algorithm='kd_tree')\n",
    "        labels = cl.fit_predict(X)\n",
    "        \n",
    "        return labels"
   ]
  },
  {
   "cell_type": "code",
   "execution_count": null,
   "metadata": {
    "_uuid": "a54437d6f946cc3aca44b6579d2ab80e873dba68",
    "collapsed": true
   },
   "outputs": [],
   "source": [
    "model = Clusterer(eps=0.008)\n",
    "labels = model.predict(hits)"
   ]
  },
  {
   "cell_type": "code",
   "execution_count": null,
   "metadata": {
    "_uuid": "1b6880954ae9dddc5004762002f80b25f9baaa34",
    "collapsed": true
   },
   "outputs": [],
   "source": [
    "print(labels)"
   ]
  },
  {
   "cell_type": "markdown",
   "metadata": {
    "_uuid": "82c45674e66fc2052cca8a342c8eb8983ec506a3"
   },
   "source": [
    "## Score\n",
    "\n",
    "Compute the score for this event. The dummy submission output of create_one_event_submission  is created only to be the second parameter of the score_event function. It should not be confused with a well-behaved submission for the test set. "
   ]
  },
  {
   "cell_type": "code",
   "execution_count": null,
   "metadata": {
    "_uuid": "1669b4554eb287c888cc9357cf735763e2ee69d4",
    "collapsed": true
   },
   "outputs": [],
   "source": [
    "def create_one_event_submission(event_id, hits, labels):\n",
    "    sub_data = np.column_stack(([event_id]*len(hits), hits.hit_id.values, labels))\n",
    "    submission = pd.DataFrame(data=sub_data, columns=[\"event_id\", \"hit_id\", \"track_id\"]).astype(int)\n",
    "    return submission"
   ]
  },
  {
   "cell_type": "code",
   "execution_count": null,
   "metadata": {
    "_uuid": "31d2ad6bbcafff3dc64ff126daa11857bfe348e6",
    "collapsed": true
   },
   "outputs": [],
   "source": [
    "submission = create_one_event_submission(0, hits, labels)\n",
    "score = score_event(truth, submission)"
   ]
  },
  {
   "cell_type": "code",
   "execution_count": null,
   "metadata": {
    "_uuid": "50396d1ba8601bc50fd69418464af02d90cff710",
    "collapsed": true
   },
   "outputs": [],
   "source": [
    "print(\"Your score: \", score)"
   ]
  },
  {
   "cell_type": "markdown",
   "metadata": {
    "_uuid": "98d43131869c72924e35d87ffa8bfee26a68ce0b"
   },
   "source": [
    "# Recognize tracks in all events of a dataset\n",
    "In this example, the dataset is the whole training set.   \n",
    "This is a simple loop over the one-event actions: because of the use of DBScan, there is no actual training.\n",
    "\n",
    "This may take a very long time. To run on only a subset, use\n",
    "\n",
    "     load_dataset(path_to_train, skip=1000, nevents=5)\n",
    "\n",
    "It will skip the first 1000 events, and select the next 5 ones."
   ]
  },
  {
   "cell_type": "code",
   "execution_count": null,
   "metadata": {
    "_uuid": "648e0f6b8febc10899dd500700b59a93cd9f1f8f",
    "collapsed": true
   },
   "outputs": [],
   "source": [
    "dataset_submissions = []\n",
    "dataset_scores = []\n",
    "\n",
    "for event_id, hits, cells, particles, truth in load_dataset(path_to_train, skip=0, nevents=5):\n",
    "        \n",
    "    # Track pattern recognition\n",
    "    model = Clusterer(eps=0.008)\n",
    "    labels = model.predict(hits)\n",
    "        \n",
    "    # Prepare submission for an event\n",
    "    one_submission = create_one_event_submission(event_id, hits, labels)\n",
    "    dataset_submissions.append(one_submission)\n",
    "    \n",
    "    # Score for the event\n",
    "    score = score_event(truth, one_submission)\n",
    "    dataset_scores.append(score)\n",
    "    \n",
    "    print(\"Score for event %d: %.3f\" % (event_id, score))\n",
    "    \n",
    "print('Mean score: %.3f' % (np.mean(dataset_scores)))"
   ]
  },
  {
   "cell_type": "markdown",
   "metadata": {
    "_uuid": "b9f03893e50ca325c3a4a063ee82164bd08d3eda"
   },
   "source": [
    "# Create a submission\n",
    "\n",
    "Create a submission file. "
   ]
  },
  {
   "cell_type": "code",
   "execution_count": null,
   "metadata": {
    "_uuid": "7f8de52b9022581bf10aa813d2db005b842f0be7",
    "collapsed": true
   },
   "outputs": [],
   "source": [
    "path_to_test = \"../input/test\"\n",
    "test_dataset_submissions = []\n",
    "\n",
    "create_submission = False # True for submission \n",
    "\n",
    "if create_submission:\n",
    "    for event_id, hits, cells in load_dataset(path_to_test, parts=['hits', 'cells']):\n",
    "\n",
    "        # Track pattern recognition\n",
    "        model = Clusterer(eps=0.008)\n",
    "        labels = model.predict(hits)\n",
    "\n",
    "        # Prepare submission for an event\n",
    "        one_submission = create_one_event_submission(event_id, hits, labels)\n",
    "        test_dataset_submissions.append(one_submission)\n",
    "        \n",
    "        print('Event ID: ', event_id)\n",
    "\n",
    "    # Create submission file\n",
    "    submussion = pd.concat(test_dataset_submissions, axis=0)\n",
    "    submussion.to_csv('submission.csv.gz', index=False, compression='gzip')"
   ]
  },
  {
   "cell_type": "code",
   "execution_count": null,
   "metadata": {
    "_uuid": "70ce31d93086e022159d6227f35c6488bf80eb22",
    "collapsed": true
   },
   "outputs": [],
   "source": []
  }
 ],
 "metadata": {
  "anaconda-cloud": {},
  "kernelspec": {
   "display_name": "Python [anaconda3]",
   "language": "python",
   "name": "Python [anaconda3]"
  },
  "language_info": {
   "codemirror_mode": {
    "name": "ipython",
    "version": 3
   },
   "file_extension": ".py",
   "mimetype": "text/x-python",
   "name": "python",
   "nbconvert_exporter": "python",
   "pygments_lexer": "ipython3",
   "version": "3.5.2"
  }
 },
 "nbformat": 4,
 "nbformat_minor": 1
}
